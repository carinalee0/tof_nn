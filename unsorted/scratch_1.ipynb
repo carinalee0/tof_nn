{
 "cells": [
  {
   "cell_type": "code",
   "execution_count": 11,
   "metadata": {},
   "outputs": [],
   "source": [
    "import h5py\n",
    "import numpy"
   ]
  },
  {
   "cell_type": "code",
   "execution_count": 17,
   "metadata": {},
   "outputs": [],
   "source": [
    "data = r\"C:\\Users\\carina\\simion_files\\TOF_ML\\simulations\\TOF_data\\R550\\sim_neg_R550_pos_0_pos_0_1_n10000.h5\"\n",
    "f = h5py.File(data, 'r')\n",
    "f['data1'].keys()\n",
    "f.close()"
   ]
  },
  {
   "cell_type": "code",
   "execution_count": 13,
   "metadata": {},
   "outputs": [
    {
     "name": "stdout",
     "output_type": "stream",
     "text": [
      "<HDF5 dataset \"final_azimuth\": shape (10000,), type \"<f8\">\n",
      "[-0. -0. -0. ... -0. -0. -0.]\n",
      "<HDF5 dataset \"final_elevation\": shape (10000,), type \"<f8\">\n",
      "[0. 0. 0. ... 0. 0. 0.]\n",
      "<HDF5 dataset \"final_ke\": shape (10000,), type \"<f8\">\n",
      "[350.108 349.593 349.48  ... 350.033 351.135 350.886]\n",
      "<HDF5 dataset \"initial_azimuth\": shape (10000,), type \"<f8\">\n",
      "[0. 0. 0. ... 0. 0. 0.]\n",
      "<HDF5 dataset \"initial_elevation\": shape (10000,), type \"<f8\">\n",
      "[0. 0. 0. ... 0. 0. 0.]\n",
      "<HDF5 dataset \"initial_ke\": shape (10000,), type \"<f8\">\n",
      "[600.108 599.593 599.48  ... 600.033 601.135 600.886]\n",
      "<HDF5 dataset \"ion_number\": shape (10000,), type \"<i4\">\n",
      "[    1     2     3 ...  9998  9999 10000]\n",
      "<HDF5 dataset \"tof\": shape (10000,), type \"<f8\">\n",
      "[0.075013  0.0753539 0.0754294 ... 0.075062  0.0743476 0.074507 ]\n",
      "<HDF5 dataset \"x\": shape (10000,), type \"<f8\">\n",
      "[406.7 406.7 406.7 ... 406.7 406.7 406.7]\n",
      "<HDF5 dataset \"y\": shape (10000,), type \"<f8\">\n",
      "[0. 0. 0. ... 0. 0. 0.]\n",
      "<HDF5 dataset \"z\": shape (10000,), type \"<f8\">\n",
      "[0. 0. 0. ... 0. 0. 0.]\n"
     ]
    }
   ],
   "source": [
    "for key in f['data1'].keys():\n",
    "    print(f['data1'][key])\n",
    "    print(f['data1'][key][()])"
   ]
  },
  {
   "cell_type": "code",
   "execution_count": 15,
   "metadata": {},
   "outputs": [],
   "source": [
    "f.close()"
   ]
  },
  {
   "cell_type": "code",
   "execution_count": null,
   "metadata": {},
   "outputs": [],
   "source": []
  },
  {
   "cell_type": "code",
   "execution_count": null,
   "metadata": {},
   "outputs": [],
   "source": []
  }
 ],
 "metadata": {
  "kernelspec": {
   "display_name": "Python 3",
   "language": "python",
   "name": "python3"
  },
  "language_info": {
   "codemirror_mode": {
    "name": "ipython",
    "version": 3
   },
   "file_extension": ".py",
   "mimetype": "text/x-python",
   "name": "python",
   "nbconvert_exporter": "python",
   "pygments_lexer": "ipython3",
   "version": "3.12.5"
  }
 },
 "nbformat": 4,
 "nbformat_minor": 2
}
